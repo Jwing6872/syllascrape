{
 "cells": [
  {
   "cell_type": "code",
   "execution_count": 1,
   "id": "761ec4e2",
   "metadata": {},
   "outputs": [],
   "source": [
    "import pandas as pd\n",
    "import pdfplumber\n",
    "from notion.client import NotionClient\n",
    "from datetime import datetime, date\n",
    "from notion.collection import NotionDate"
   ]
  },
  {
   "cell_type": "code",
   "execution_count": 2,
   "id": "2d7469df",
   "metadata": {},
   "outputs": [],
   "source": [
    "#get token_v2 cookie key from signed in (non guest) notion browser\n",
    "client = NotionClient(token_v2=\"c6b3ddec1fdcbd2971fa9a843ef129071a7b6e807ee2c9aecafdb56fe3c268649deb9ed9b0e3c28cc9ab9581b6f828881d7703fdc3d8595726f3586b2ff41b509c8ea84f9ed346f16d06042537d7\")"
   ]
  },
  {
   "cell_type": "code",
   "execution_count": 3,
   "id": "e88be4c5",
   "metadata": {},
   "outputs": [],
   "source": [
    "# Access a database using the URL of the database page or the inline block\n",
    "cv = client.get_collection_view(\"https://www.notion.so/jwing6872/43db650995984668931f5cf648e0db33?v=ae8b1247142b48a9ad8decc8584dd853\")"
   ]
  },
  {
   "cell_type": "code",
   "execution_count": 8,
   "id": "6b38fde2",
   "metadata": {},
   "outputs": [
    {
     "name": "stdout",
     "output_type": "stream",
     "text": [
      "16.2-16.3, *\n",
      "16.1, *\n",
      "Debate\n",
      "15.4-15.5\n",
      "PS 9\n",
      "*\n",
      "PS 8\n",
      "9.1-9.3\n",
      "Debate\n",
      "*\n",
      "PS 7\n",
      "10.1, *\n",
      "PS 6\n",
      "11.3, *\n",
      "*\n",
      "11.1-11.2\n",
      "12.6-12.7, 14.4\n",
      "PS 5\n",
      "12.1-12.5\n",
      "Midterm\n",
      "Essay 1\n",
      "PS 4\n",
      "7.1, 7.4, 10.3\n",
      "*\n",
      "7.5, 10.5\n",
      "PS 3\n",
      "PS2\n",
      "18.1, 18.3\n",
      "PS1\n",
      "5.4-5.5\n",
      "*\n",
      "13.1-13.4\n",
      "4.5\n",
      "3, 5.1-5.3\n",
      "4.1-4.4\n",
      "2 Appendix\n",
      "1.2-1.6, 2\n"
     ]
    }
   ],
   "source": [
    "for row in cv.collection.get_rows():\n",
    "    s = row.name.split(\":\")\n",
    "    if s.pop(0) == \"EC10a\":\n",
    "        print(s[0].lstrip())\n",
    "        row.name = s[0].lstrip()"
   ]
  },
  {
   "cell_type": "code",
   "execution_count": 14,
   "id": "e924164f",
   "metadata": {},
   "outputs": [],
   "source": [
    "for row in cv.collection.get_rows():\n",
    "    if \"EC10a\" in row.tags:\n",
    "        if row.reading:\n",
    "            c = row.name\n",
    "            row.name = row.reading\n",
    "            row.reading = c\n",
    "            "
   ]
  },
  {
   "cell_type": "code",
   "execution_count": null,
   "id": "9bd82295",
   "metadata": {},
   "outputs": [],
   "source": []
  }
 ],
 "metadata": {
  "kernelspec": {
   "display_name": "Python 3",
   "language": "python",
   "name": "python3"
  },
  "language_info": {
   "codemirror_mode": {
    "name": "ipython",
    "version": 3
   },
   "file_extension": ".py",
   "mimetype": "text/x-python",
   "name": "python",
   "nbconvert_exporter": "python",
   "pygments_lexer": "ipython3",
   "version": "3.8.8"
  }
 },
 "nbformat": 4,
 "nbformat_minor": 5
}
