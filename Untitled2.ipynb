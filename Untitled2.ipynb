{
 "cells": [
  {
   "cell_type": "code",
   "execution_count": 59,
   "id": "362b5956",
   "metadata": {},
   "outputs": [],
   "source": [
    "import pandas as pd\n",
    "import pdfplumber\n",
    "from notion.client import NotionClient\n",
    "from datetime import datetime, date\n",
    "from notion.collection import NotionDate"
   ]
  },
  {
   "cell_type": "code",
   "execution_count": 60,
   "id": "f7e5930a",
   "metadata": {},
   "outputs": [],
   "source": [
    "path = 'stat110_syllabus.pdf'\n",
    "course_name = \"STAT110\""
   ]
  },
  {
   "cell_type": "code",
   "execution_count": 61,
   "id": "b712b2a0",
   "metadata": {},
   "outputs": [
    {
     "data": {
      "text/plain": [
       "'Harvard Stat 110: Introduction to Probability Fall 2021\\nTentative Schedule:\\nDates Topics\\nSep 2 Introduction: what is probability and why study it? Chapter 1\\nSep 7, 9 Counting, naive deﬁnition, general deﬁnition. Chapter 1\\nSep 14, 16 Conditional probability, Bayes’ rule, LOTP. Chapter 2\\nSep 21, 23 Discrete random variables. Chapter 3\\nSep 28, 30 Discrete random variables (continued), expectation, linearity, LOTUS. Chapters 3–4\\nOct 5, 7 Continuous random variables. Chapter 5\\nOct 12, 14 Midterm review; midterm.\\nOct 19, 21 Continuous random variables (continued), moment generating functions. Chapters 5–6\\nOct 26, 28 Joint, conditional, and marginal distributions. Chapter 7\\nNov 2, 4 Joint distributions (continued), transformations. Chapters 7–8\\nNov 9, 11 Transformations (continued), conditional expectation. Chapters 8–9\\nNov 16, 18 Inequalities, limit theorems; Markov chains. Chapters 10–11\\nNov 30, Dec 2 Markov chains (continued), a look ahead. Chapter 11\\nDec 3–8 Reading period\\nDec 10 Final exam\\n1'"
      ]
     },
     "execution_count": 61,
     "metadata": {},
     "output_type": "execute_result"
    }
   ],
   "source": [
    "with pdfplumber.open(path) as pdf:\n",
    "    p0 = pdf.pages[0]\n",
    "    words = p0.extract_text()\n",
    "words"
   ]
  },
  {
   "cell_type": "code",
   "execution_count": 62,
   "id": "1f6d01e5",
   "metadata": {},
   "outputs": [
    {
     "data": {
      "text/plain": [
       "['Sep 2 Introduction: what is probability and why study it? Chapter 1',\n",
       " 'Sep 7, 9 Counting, naive deﬁnition, general deﬁnition. Chapter 1',\n",
       " 'Sep 14, 16 Conditional probability, Bayes’ rule, LOTP. Chapter 2',\n",
       " 'Sep 21, 23 Discrete random variables. Chapter 3',\n",
       " 'Sep 28, 30 Discrete random variables (continued), expectation, linearity, LOTUS. Chapters 3–4',\n",
       " 'Oct 5, 7 Continuous random variables. Chapter 5',\n",
       " 'Oct 12, 14 Midterm review; midterm.',\n",
       " 'Oct 19, 21 Continuous random variables (continued), moment generating functions. Chapters 5–6',\n",
       " 'Oct 26, 28 Joint, conditional, and marginal distributions. Chapter 7',\n",
       " 'Nov 2, 4 Joint distributions (continued), transformations. Chapters 7–8',\n",
       " 'Nov 9, 11 Transformations (continued), conditional expectation. Chapters 8–9',\n",
       " 'Nov 16, 18 Inequalities, limit theorems; Markov chains. Chapters 10–11',\n",
       " 'Nov 30, Dec 2 Markov chains (continued), a look ahead. Chapter 11',\n",
       " 'Dec 3–8 Reading period',\n",
       " 'Dec 10 Final exam']"
      ]
     },
     "execution_count": 62,
     "metadata": {},
     "output_type": "execute_result"
    }
   ],
   "source": [
    "lines = words.split(\"\\n\")[3:-1]\n",
    "lines"
   ]
  },
  {
   "cell_type": "code",
   "execution_count": 63,
   "id": "0d7f409b",
   "metadata": {},
   "outputs": [],
   "source": [
    "#get token_v2 cookie key from signed in (non guest) notion browser\n",
    "client = NotionClient(token_v2=\"c6b3ddec1fdcbd2971fa9a843ef129071a7b6e807ee2c9aecafdb56fe3c268649deb9ed9b0e3c28cc9ab9581b6f828881d7703fdc3d8595726f3586b2ff41b509c8ea84f9ed346f16d06042537d7\")"
   ]
  },
  {
   "cell_type": "code",
   "execution_count": 64,
   "id": "c914b615",
   "metadata": {},
   "outputs": [],
   "source": [
    "# Access a database using the URL of the database page or the inline block\n",
    "cv = client.get_collection_view(\"https://www.notion.so/jwing6872/43db650995984668931f5cf648e0db33?v=ae8b1247142b48a9ad8decc8584dd853\")"
   ]
  },
  {
   "cell_type": "code",
   "execution_count": 65,
   "id": "810da157",
   "metadata": {},
   "outputs": [
    {
     "name": "stdout",
     "output_type": "stream",
     "text": [
      "['9 2 Introduction: what is probability and why study it? Chapter 1', '9 7, 9 Counting, naive deﬁnition, general deﬁnition. Chapter 1', '9 14, 16 Conditional probability, Bayes’ rule, LOTP. Chapter 2', '9 21, 23 Discrete random variables. Chapter 3', '9 28, 30 Discrete random variables (continued), expectation, linearity, LOTUS. Chapters 3–4', '10 5, 7 Continuous random variables. Chapter 5', '10 12, 14 Midterm review; midterm.', '10 19, 21 Continuous random variables (continued), moment generating functions. Chapters 5–6', '10 26, 28 Joint, conditional, and marginal distributions. Chapter 7', '11 2, 4 Joint distributions (continued), transformations. Chapters 7–8', '11 9, 11 Transformations (continued), conditional expectation. Chapters 8–9', '11 16, 18 Inequalities, limit theorems; Markov chains. Chapters 10–11', '11 30, Dec 2 Markov chains (continued), a look ahead. Chapter 11', '12 3–8 Reading period', '12 10 Final exam']\n"
     ]
    }
   ],
   "source": [
    "for i in range(len(lines)):\n",
    "    datetime_object = datetime.strptime(lines[i][:3], \"%b\")\n",
    "    month_number = datetime_object.month\n",
    "    lines[i] = str(month_number) + lines[i][3:]\n",
    "print(lines)"
   ]
  },
  {
   "cell_type": "code",
   "execution_count": 66,
   "id": "ebe5465e",
   "metadata": {},
   "outputs": [
    {
     "data": {
      "text/plain": [
       "['9 2 Introduction: what is probability and why study it? Chapter 1',\n",
       " '9 7, 9 Counting, naive deﬁnition, general deﬁnition. Chapter 1',\n",
       " '9 14, 16 Conditional probability, Bayes’ rule, LOTP. Chapter 2',\n",
       " '9 21, 23 Discrete random variables. Chapter 3',\n",
       " '9 28, 30 Discrete random variables (continued), expectation, linearity, LOTUS. Chapters 3–4',\n",
       " '10 5, 7 Continuous random variables. Chapter 5',\n",
       " '10 12, 14 Midterm review; midterm.',\n",
       " '10 19, 21 Continuous random variables (continued), moment generating functions. Chapters 5–6',\n",
       " '10 26, 28 Joint, conditional, and marginal distributions. Chapter 7',\n",
       " '11 2, 4 Joint distributions (continued), transformations. Chapters 7–8',\n",
       " '11 9, 11 Transformations (continued), conditional expectation. Chapters 8–9',\n",
       " '11 16, 18 Inequalities, limit theorems; Markov chains. Chapters 10–11',\n",
       " '11 30, Dec 2 Markov chains (continued), a look ahead. Chapter 11',\n",
       " '12 3–8 Reading period',\n",
       " '12 10 Final exam']"
      ]
     },
     "execution_count": 66,
     "metadata": {},
     "output_type": "execute_result"
    }
   ],
   "source": [
    "lines"
   ]
  },
  {
   "cell_type": "code",
   "execution_count": 68,
   "id": "7acea4e9",
   "metadata": {},
   "outputs": [
    {
     "data": {
      "text/plain": [
       "[['9 2 Introduction: what is probability and why study it', ' Chapter 1'],\n",
       " ['9 7, 9 Counting, naive deﬁnition, general deﬁnition', ' Chapter 1'],\n",
       " ['9 14, 16 Conditional probability, Bayes’ rule, LOTP', ' Chapter 2'],\n",
       " ['9 21, 23 Discrete random variables', ' Chapter 3'],\n",
       " ['9 28, 30 Discrete random variables (continued), expectation, linearity, LOTUS',\n",
       "  ' Chapters 3–4'],\n",
       " ['10 5, 7 Continuous random variables', ' Chapter 5'],\n",
       " ['10 12, 14 Midterm review; midterm', ''],\n",
       " ['10 19, 21 Continuous random variables (continued), moment generating functions',\n",
       "  ' Chapters 5–6'],\n",
       " ['10 26, 28 Joint, conditional, and marginal distributions', ' Chapter 7'],\n",
       " ['11 2, 4 Joint distributions (continued), transformations', ' Chapters 7–8'],\n",
       " ['11 9, 11 Transformations (continued), conditional expectation',\n",
       "  ' Chapters 8–9'],\n",
       " ['11 16, 18 Inequalities, limit theorems; Markov chains', ' Chapters 10–11'],\n",
       " ['11 30, Dec 2 Markov chains (continued), a look ahead', ' Chapter 11'],\n",
       " ['12 3–8 Reading period', ''],\n",
       " ['12 10 Final exam', '']]"
      ]
     },
     "execution_count": 68,
     "metadata": {},
     "output_type": "execute_result"
    }
   ],
   "source": [
    "for i in range(len(lines)):\n",
    "    if \".\" in lines[i]:\n",
    "        lines[i] = lines[i].split(\".\")\n",
    "    elif \"?\" in lines[i]:\n",
    "        lines[i] = lines[i].split(\"?\")\n",
    "    else:\n",
    "        lines[i] = [lines[i], \"\"]\n",
    "lines"
   ]
  },
  {
   "cell_type": "code",
   "execution_count": null,
   "id": "bc8c0174",
   "metadata": {},
   "outputs": [],
   "source": [
    "for line in lines:\n",
    "    "
   ]
  },
  {
   "cell_type": "code",
   "execution_count": null,
   "id": "898155da",
   "metadata": {},
   "outputs": [],
   "source": []
  }
 ],
 "metadata": {
  "kernelspec": {
   "display_name": "Python 3",
   "language": "python",
   "name": "python3"
  },
  "language_info": {
   "codemirror_mode": {
    "name": "ipython",
    "version": 3
   },
   "file_extension": ".py",
   "mimetype": "text/x-python",
   "name": "python",
   "nbconvert_exporter": "python",
   "pygments_lexer": "ipython3",
   "version": "3.8.8"
  }
 },
 "nbformat": 4,
 "nbformat_minor": 5
}
